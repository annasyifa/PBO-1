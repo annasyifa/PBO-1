{
  "nbformat": 4,
  "nbformat_minor": 0,
  "metadata": {
    "colab": {
      "provenance": [],
      "authorship_tag": "ABX9TyOkUfVTmkK0OBflyCWrJE7S",
      "include_colab_link": true
    },
    "kernelspec": {
      "name": "python3",
      "display_name": "Python 3"
    },
    "language_info": {
      "name": "python"
    }
  },
  "cells": [
    {
      "cell_type": "markdown",
      "metadata": {
        "id": "view-in-github",
        "colab_type": "text"
      },
      "source": [
        "<a href=\"https://colab.research.google.com/github/annasyifa/PBO-1/blob/main/Sesi_1.ipynb\" target=\"_parent\"><img src=\"https://colab.research.google.com/assets/colab-badge.svg\" alt=\"Open In Colab\"/></a>"
      ]
    },
    {
      "cell_type": "markdown",
      "source": [
        "Menggunakan sintaks print"
      ],
      "metadata": {
        "id": "ZicSyKSPpysH"
      }
    },
    {
      "cell_type": "code",
      "execution_count": 1,
      "metadata": {
        "colab": {
          "base_uri": "https://localhost:8080/"
        },
        "id": "6keny6WNpgJ5",
        "outputId": "08919fe4-5182-4af0-c8f5-0b15a72a3d40"
      },
      "outputs": [
        {
          "output_type": "stream",
          "name": "stdout",
          "text": [
            "Muhammad Annas Asyifa\n",
            "Department of Information Technology\n",
            "UIN Ar-Raniry\n",
            "Jalan Syech Abdurrauf Kopelma Darussalam\n",
            "Banda Aceh 23111\n",
            "Indonesia\n"
          ]
        }
      ],
      "source": [
        "##\n",
        "# Menampilkan alamat lengkap seseorang\n",
        "#\n",
        "print(\"Muhammad Annas Asyifa\")\n",
        "print(\"Department of Information Technology\")\n",
        "print(\"UIN Ar-Raniry\")\n",
        "print(\"Jalan Syech Abdurrauf Kopelma Darussalam\")\n",
        "print(\"Banda Aceh 23111\")\n",
        "print(\"Indonesia\")"
      ]
    },
    {
      "cell_type": "markdown",
      "source": [
        "Menghitung luas kamar"
      ],
      "metadata": {
        "id": "EfYeRBCoqgPr"
      }
    },
    {
      "cell_type": "code",
      "source": [
        "##\n",
        "# Menghitung luas kamar\n",
        "#\n",
        "\n",
        "# Membaca angka yang dimasukkan oleh user\n",
        "panjang = float(input(\"Masukkan ukuran panjang dalam satuan meter \"))\n",
        "lebar = float(input(\"Masukkan ukuran lebar dalam satuan meter \"))\n",
        "\n",
        "# Proses perhitungan luas\n",
        "luas = panjang * lebar\n",
        "\n",
        "# Tampilkan hasil\n",
        "print(\"Luas dari kamar ini adalah\", luas, \"meter kuadrat\")\n"
      ],
      "metadata": {
        "colab": {
          "base_uri": "https://localhost:8080/"
        },
        "id": "_pCBH2AusCmf",
        "outputId": "c07cbbe5-64b7-4d41-908f-1053328b6d72"
      },
      "execution_count": 2,
      "outputs": [
        {
          "output_type": "stream",
          "name": "stdout",
          "text": [
            "Masukkan ukuran panjang dalam satuan meter 2\n",
            "Masukkan ukuran lebar dalam satuan meter 2\n",
            "Luas dari kamar ini adalah 4.0 meter kuadrat\n"
          ]
        }
      ]
    },
    {
      "cell_type": "markdown",
      "source": [
        "Menghitung jumlah dari suatu bilangan"
      ],
      "metadata": {
        "id": "263dYzqmspBf"
      }
    },
    {
      "cell_type": "code",
      "source": [
        "##\n",
        "# Menghitung jumlah dari bilangan positif pertama\n",
        "#\n",
        "\n",
        "# Membaca angka yang dimasukkan oleh user\n",
        "n = int(input(\"Masukkan bilangan bulat positif:\"))\n",
        "\n",
        "# Proses Menghitung jumlah\n",
        "sm = n * (n+1) / 2\n",
        "\n",
        "# Tampilkan hasil\n",
        "print(\"Jumlah pertama dari \", n, \"bilangan positif adalah\", sm)"
      ],
      "metadata": {
        "colab": {
          "base_uri": "https://localhost:8080/"
        },
        "id": "z59AubejswW0",
        "outputId": "5a3b3d81-3dbe-491f-c4f5-febfe0006291"
      },
      "execution_count": 3,
      "outputs": [
        {
          "output_type": "stream",
          "name": "stdout",
          "text": [
            "Masukkan bilangan bulat positif:4\n",
            "Jumlah pertama dari  4 bilangan positif adalah 10.0\n"
          ]
        }
      ]
    },
    {
      "cell_type": "markdown",
      "source": [
        "Mengenal fungsi aritmatika"
      ],
      "metadata": {
        "id": "9vJZB-B4s5Qm"
      }
    },
    {
      "cell_type": "code",
      "source": [
        "##\n",
        "# Pengenalan operator matematika pada Python dan modul math\n",
        "#\n",
        "\n",
        "from math import log10\n",
        "\n",
        "# Membaca input dari user\n",
        "x = int (input(\"Masukkan bilangan dari x:\"))\n",
        "y = int (input(\"Masukkan bilangan dari y:\"))\n",
        "\n",
        "# Menghitung dan menampilkan operator matematika\n",
        "print(x, \"+\", y, \"adalah\", x + y)\n",
        "print(x, \"-\", y, \"adalah\", x - y)\n",
        "print(x, \"*\", y, \"adalah\", x * y)\n",
        "print(x, \"/\", y, \"adalah\", x / y)\n",
        "print(x, \"%\", y, \"adalah\", x % y)\n",
        "\n",
        "# Menghitung logaritma dan pangkat\n",
        "print(\"Logaritma basis 10 dari\", x, \"adalah\", log10(x))\n",
        "print(x, \"^\", y, \"adalah\", x**y)\n"
      ],
      "metadata": {
        "colab": {
          "base_uri": "https://localhost:8080/"
        },
        "id": "JezuA2AAtB55",
        "outputId": "d8afd404-e818-4605-a72c-1519ef4d4591"
      },
      "execution_count": 4,
      "outputs": [
        {
          "output_type": "stream",
          "name": "stdout",
          "text": [
            "Masukkan bilangan dari x:4\n",
            "Masukkan bilangan dari y:2\n",
            "4 + 2 adalah 6\n",
            "4 - 2 adalah 2\n",
            "4 * 2 adalah 8\n",
            "4 / 2 adalah 2.0\n",
            "4 % 2 adalah 0\n",
            "Logaritma basis 10 dari 4 adalah 0.6020599913279624\n",
            "4 ^ 2 adalah 16\n"
          ]
        }
      ]
    }
  ]
}